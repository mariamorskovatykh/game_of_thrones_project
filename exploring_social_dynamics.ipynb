{
 "cells": [
  {
   "cell_type": "markdown",
   "id": "165b18a4",
   "metadata": {},
   "source": [
    "# Character Social Network Analysis"
   ]
  },
  {
   "cell_type": "code",
   "execution_count": 84,
   "id": "e0a0f180",
   "metadata": {},
   "outputs": [],
   "source": [
    "import pandas as pd\n",
    "import spacy\n",
    "from spacy import displacy\n",
    "import networkx as nx\n",
    "import os\n",
    "import re\n",
    "\n",
    "import seaborn as sns\n",
    "import matplotlib.pyplot as plt"
   ]
  },
  {
   "cell_type": "code",
   "execution_count": null,
   "id": "6f59c27a",
   "metadata": {},
   "outputs": [],
   "source": [
    "!python3 -m spacy download en_core_web_sm"
   ]
  },
  {
   "cell_type": "code",
   "execution_count": 22,
   "id": "068e1aca",
   "metadata": {},
   "outputs": [],
   "source": [
    "# Load the model\n",
    "nlp = spacy.load(\"en_core_web_sm\")\n",
    "\n",
    "# Increase the maximum length\n",
    "nlp.max_length = 2000000"
   ]
  },
  {
   "cell_type": "markdown",
   "id": "c7b362d7",
   "metadata": {},
   "source": [
    "## Load the character data frame"
   ]
  },
  {
   "cell_type": "code",
   "execution_count": 93,
   "id": "d6ec40f7",
   "metadata": {},
   "outputs": [],
   "source": [
    "# open csv file\n",
    "character_df = pd.read_csv(\"characters_merged.csv\")"
   ]
  },
  {
   "cell_type": "code",
   "execution_count": 94,
   "id": "fffede34",
   "metadata": {},
   "outputs": [],
   "source": [
    "# Clean up data frame\n",
    "\n",
    "# Delete automatically generated column\n",
    "del character_df[\"Unnamed: 0\"]\n",
    "\n",
    "# Add first name into a separate column\n",
    "character_df['character_firstname'] = character_df['character_name'].apply(lambda x: x.split(' ', 1)[0])\n",
    "\n",
    "# Replace 'Unknown' with np.nan\n",
    "character_df[\"alias\"].replace('Unknown',np.nan,inplace=True)\n",
    "\n",
    "character_df[\"alias\"] = character_df[\"alias\"].astype(str)\n",
    "character_df[\"alias\"]\n",
    "\n",
    "# Replace 'The' with empty string\n",
    "character_df[\"alias\"] = character_df[\"alias\"].map(lambda x: x.replace(\"The \", \"\"))\n",
    "\n",
    "# Remove a part of the Ramsay Bolton's aliases\n",
    "character_df[\"alias\"] = np.where(character_df['character_name']=='Ramsay Bolton',character_df['alias'].replace(re.compile(',Reek,Red Helm,Monster'), '', regex=True),character_df['alias'])\n",
    "\n",
    "# Separate string by ',' and create a list\n",
    "character_df['alias'] = character_df['alias'].str.split(',')\n"
   ]
  },
  {
   "cell_type": "code",
   "execution_count": 99,
   "id": "75c15f46",
   "metadata": {},
   "outputs": [
    {
     "data": {
      "text/html": [
       "<div>\n",
       "<style scoped>\n",
       "    .dataframe tbody tr th:only-of-type {\n",
       "        vertical-align: middle;\n",
       "    }\n",
       "\n",
       "    .dataframe tbody tr th {\n",
       "        vertical-align: top;\n",
       "    }\n",
       "\n",
       "    .dataframe thead th {\n",
       "        text-align: right;\n",
       "    }\n",
       "</style>\n",
       "<table border=\"1\" class=\"dataframe\">\n",
       "  <thead>\n",
       "    <tr style=\"text-align: right;\">\n",
       "      <th></th>\n",
       "      <th>book</th>\n",
       "      <th>character_name</th>\n",
       "      <th>alias</th>\n",
       "      <th>character_firstname</th>\n",
       "    </tr>\n",
       "  </thead>\n",
       "  <tbody>\n",
       "    <tr>\n",
       "      <th>612</th>\n",
       "      <td>A Feast for Crows</td>\n",
       "      <td>Jon Bettley</td>\n",
       "      <td>[Beardless Jon Bettley]</td>\n",
       "      <td>Jon</td>\n",
       "    </tr>\n",
       "    <tr>\n",
       "      <th>613</th>\n",
       "      <td>A Feast for Crows</td>\n",
       "      <td>Jon Myre</td>\n",
       "      <td>[Pinchface Jon Myre]</td>\n",
       "      <td>Jon</td>\n",
       "    </tr>\n",
       "    <tr>\n",
       "      <th>614</th>\n",
       "      <td>A Game of Thrones</td>\n",
       "      <td>Jon Umber (Greatjon)</td>\n",
       "      <td>[Greatjon, Greatjon Umber]</td>\n",
       "      <td>Jon</td>\n",
       "    </tr>\n",
       "    <tr>\n",
       "      <th>615</th>\n",
       "      <td>A Clash of Kings</td>\n",
       "      <td>Jon Umber (Greatjon)</td>\n",
       "      <td>[Greatjon, Greatjon Umber]</td>\n",
       "      <td>Jon</td>\n",
       "    </tr>\n",
       "    <tr>\n",
       "      <th>616</th>\n",
       "      <td>A Storm of Sword</td>\n",
       "      <td>Jon Umber (Greatjon)</td>\n",
       "      <td>[Greatjon, Greatjon Umber]</td>\n",
       "      <td>Jon</td>\n",
       "    </tr>\n",
       "    <tr>\n",
       "      <th>617</th>\n",
       "      <td>A Feast for Crows</td>\n",
       "      <td>Jon Umber (Greatjon)</td>\n",
       "      <td>[Greatjon, Greatjon Umber]</td>\n",
       "      <td>Jon</td>\n",
       "    </tr>\n",
       "    <tr>\n",
       "      <th>618</th>\n",
       "      <td>A Dance with Dragons</td>\n",
       "      <td>Jon Umber (Greatjon)</td>\n",
       "      <td>[Greatjon, Greatjon Umber]</td>\n",
       "      <td>Jon</td>\n",
       "    </tr>\n",
       "    <tr>\n",
       "      <th>619</th>\n",
       "      <td>The Winds of Winter</td>\n",
       "      <td>Jon Umber (Greatjon)</td>\n",
       "      <td>[Greatjon, Greatjon Umber]</td>\n",
       "      <td>Jon</td>\n",
       "    </tr>\n",
       "    <tr>\n",
       "      <th>620</th>\n",
       "      <td>A Feast for Crows</td>\n",
       "      <td>Jon Waters</td>\n",
       "      <td>[nan]</td>\n",
       "      <td>Jon</td>\n",
       "    </tr>\n",
       "    <tr>\n",
       "      <th>621</th>\n",
       "      <td>A Game of Thrones</td>\n",
       "      <td>Jonos Bracken</td>\n",
       "      <td>[nan]</td>\n",
       "      <td>Jonos</td>\n",
       "    </tr>\n",
       "    <tr>\n",
       "      <th>622</th>\n",
       "      <td>A Clash of Kings</td>\n",
       "      <td>Jonos Bracken</td>\n",
       "      <td>[nan]</td>\n",
       "      <td>Jonos</td>\n",
       "    </tr>\n",
       "    <tr>\n",
       "      <th>623</th>\n",
       "      <td>A Storm of Sword</td>\n",
       "      <td>Jonos Bracken</td>\n",
       "      <td>[nan]</td>\n",
       "      <td>Jonos</td>\n",
       "    </tr>\n",
       "    <tr>\n",
       "      <th>624</th>\n",
       "      <td>A Dance with Dragons</td>\n",
       "      <td>Jonos Bracken</td>\n",
       "      <td>[nan]</td>\n",
       "      <td>Jonos</td>\n",
       "    </tr>\n",
       "    <tr>\n",
       "      <th>1339</th>\n",
       "      <td>A Game of Thrones</td>\n",
       "      <td>Jon Snow</td>\n",
       "      <td>[Lord Snow, Bastard of Winterfell, Lord Crow]</td>\n",
       "      <td>Jon</td>\n",
       "    </tr>\n",
       "    <tr>\n",
       "      <th>1340</th>\n",
       "      <td>A Clash of Kings</td>\n",
       "      <td>Jon Snow</td>\n",
       "      <td>[Lord Snow, Bastard of Winterfell, Lord Crow]</td>\n",
       "      <td>Jon</td>\n",
       "    </tr>\n",
       "    <tr>\n",
       "      <th>1341</th>\n",
       "      <td>A Storm of Sword</td>\n",
       "      <td>Jon Snow</td>\n",
       "      <td>[Lord Snow, Bastard of Winterfell, Lord Crow]</td>\n",
       "      <td>Jon</td>\n",
       "    </tr>\n",
       "    <tr>\n",
       "      <th>1342</th>\n",
       "      <td>A Feast for Crows</td>\n",
       "      <td>Jon Snow</td>\n",
       "      <td>[Lord Snow, Bastard of Winterfell, Lord Crow]</td>\n",
       "      <td>Jon</td>\n",
       "    </tr>\n",
       "    <tr>\n",
       "      <th>1343</th>\n",
       "      <td>A Dance with Dragons</td>\n",
       "      <td>Jon Snow</td>\n",
       "      <td>[Lord Snow, Bastard of Winterfell, Lord Crow]</td>\n",
       "      <td>Jon</td>\n",
       "    </tr>\n",
       "    <tr>\n",
       "      <th>1344</th>\n",
       "      <td>The Winds of Winter</td>\n",
       "      <td>Jon Snow</td>\n",
       "      <td>[Lord Snow, Bastard of Winterfell, Lord Crow]</td>\n",
       "      <td>Jon</td>\n",
       "    </tr>\n",
       "  </tbody>\n",
       "</table>\n",
       "</div>"
      ],
      "text/plain": [
       "                      book        character_name  \\\n",
       "612      A Feast for Crows           Jon Bettley   \n",
       "613      A Feast for Crows              Jon Myre   \n",
       "614      A Game of Thrones  Jon Umber (Greatjon)   \n",
       "615       A Clash of Kings  Jon Umber (Greatjon)   \n",
       "616       A Storm of Sword  Jon Umber (Greatjon)   \n",
       "617      A Feast for Crows  Jon Umber (Greatjon)   \n",
       "618   A Dance with Dragons  Jon Umber (Greatjon)   \n",
       "619    The Winds of Winter  Jon Umber (Greatjon)   \n",
       "620      A Feast for Crows            Jon Waters   \n",
       "621      A Game of Thrones         Jonos Bracken   \n",
       "622       A Clash of Kings         Jonos Bracken   \n",
       "623       A Storm of Sword         Jonos Bracken   \n",
       "624   A Dance with Dragons         Jonos Bracken   \n",
       "1339     A Game of Thrones              Jon Snow   \n",
       "1340      A Clash of Kings              Jon Snow   \n",
       "1341      A Storm of Sword              Jon Snow   \n",
       "1342     A Feast for Crows              Jon Snow   \n",
       "1343  A Dance with Dragons              Jon Snow   \n",
       "1344   The Winds of Winter              Jon Snow   \n",
       "\n",
       "                                              alias character_firstname  \n",
       "612                         [Beardless Jon Bettley]                 Jon  \n",
       "613                            [Pinchface Jon Myre]                 Jon  \n",
       "614                      [Greatjon, Greatjon Umber]                 Jon  \n",
       "615                      [Greatjon, Greatjon Umber]                 Jon  \n",
       "616                      [Greatjon, Greatjon Umber]                 Jon  \n",
       "617                      [Greatjon, Greatjon Umber]                 Jon  \n",
       "618                      [Greatjon, Greatjon Umber]                 Jon  \n",
       "619                      [Greatjon, Greatjon Umber]                 Jon  \n",
       "620                                           [nan]                 Jon  \n",
       "621                                           [nan]               Jonos  \n",
       "622                                           [nan]               Jonos  \n",
       "623                                           [nan]               Jonos  \n",
       "624                                           [nan]               Jonos  \n",
       "1339  [Lord Snow, Bastard of Winterfell, Lord Crow]                 Jon  \n",
       "1340  [Lord Snow, Bastard of Winterfell, Lord Crow]                 Jon  \n",
       "1341  [Lord Snow, Bastard of Winterfell, Lord Crow]                 Jon  \n",
       "1342  [Lord Snow, Bastard of Winterfell, Lord Crow]                 Jon  \n",
       "1343  [Lord Snow, Bastard of Winterfell, Lord Crow]                 Jon  \n",
       "1344  [Lord Snow, Bastard of Winterfell, Lord Crow]                 Jon  "
      ]
     },
     "execution_count": 99,
     "metadata": {},
     "output_type": "execute_result"
    }
   ],
   "source": [
    "# sanity check\n",
    "rows = character_df[character_df[\"character_name\"].str.contains(\"Jon\", case=False, na=False)]\n",
    "rows"
   ]
  },
  {
   "cell_type": "markdown",
   "id": "f33238e2",
   "metadata": {},
   "source": [
    "## Load books"
   ]
  },
  {
   "cell_type": "code",
   "execution_count": 96,
   "id": "695cafab",
   "metadata": {},
   "outputs": [
    {
     "name": "stdout",
     "output_type": "stream",
     "text": [
      "['1_A_Game_Of_Thrones.txt', '2_A_Clash_Of_Kings.txt', '3_A_Storm_Of_Swords.txt', '4_A_Feast_For_Crows.txt', '5_A_Dance_With_Dragons.txt']\n"
     ]
    }
   ],
   "source": [
    "# Get book names\n",
    "path = \"books_txt\"\n",
    "current_dir = os.getcwd()\n",
    "abs_path = os.path.abspath(os.path.join(current_dir, path))\n",
    "\n",
    "# Get all files in directory except temporary files\n",
    "books = [book for book in os.listdir(abs_path) if os.path.isfile(os.path.join(path, book)) and not book.startswith('.')]\n",
    "books.sort()\n",
    "\n",
    "# Print all files\n",
    "print(books)"
   ]
  },
  {
   "cell_type": "code",
   "execution_count": 119,
   "id": "41f54904",
   "metadata": {},
   "outputs": [],
   "source": [
    "# Import function\n",
    "from utils.my_functions import replace_word_in_string"
   ]
  },
  {
   "cell_type": "code",
   "execution_count": null,
   "id": "d1da6c2d",
   "metadata": {},
   "outputs": [],
   "source": [
    "# Read books into strings and store them in a list\n",
    "contents = []\n",
    "for book in books:\n",
    "    book_text = open(f\"{abs_path}/{book}\").read()\n",
    "    contents.append(book_text)\n",
    "\n",
    "# Iterate through books to replace aliases with full names\n",
    "# Create an empty list to store the modified text\n",
    "modified_texts = []\n",
    "\n",
    "for book in contents:\n",
    "    # Create an empty string variable for the modified text\n",
    "    modified_text = \"\"\n",
    "    # iterate through character aliases and replace in text\n",
    "    for i, row in character_df.iterrows():\n",
    "        for alias in row['alias']:\n",
    "            modified_text += replace_word_in_string(book, alias, row['character_name'])\n",
    "    modified_texts.append(modified_text)"
   ]
  },
  {
   "cell_type": "code",
   "execution_count": 118,
   "id": "d3816331",
   "metadata": {},
   "outputs": [
    {
     "data": {
      "text/plain": [
       "0"
      ]
     },
     "execution_count": 118,
     "metadata": {},
     "output_type": "execute_result"
    }
   ],
   "source": [
    "# sanity check\n",
    "modified_text[0].count(\"Dany\")"
   ]
  },
  {
   "cell_type": "markdown",
   "id": "81017d02",
   "metadata": {},
   "source": [
    "## Named entity recognition"
   ]
  },
  {
   "cell_type": "code",
   "execution_count": 121,
   "id": "0c55c957",
   "metadata": {},
   "outputs": [],
   "source": [
    "book_docs = []"
   ]
  },
  {
   "cell_type": "code",
   "execution_count": null,
   "id": "340f4fea",
   "metadata": {},
   "outputs": [],
   "source": [
    "for book in modified_text:\n",
    "    book_doc = nlp(book)\n",
    "    book_docs.append(book_doc)"
   ]
  },
  {
   "cell_type": "code",
   "execution_count": null,
   "id": "cea8211d",
   "metadata": {},
   "outputs": [],
   "source": [
    "len(book_docs)"
   ]
  },
  {
   "cell_type": "code",
   "execution_count": 24,
   "id": "53096229",
   "metadata": {},
   "outputs": [
    {
     "data": {
      "text/html": [
       "<span class=\"tex2jax_ignore\"><div class=\"entities\" style=\"line-height: 2.5; direction: ltr\">\f",
       "PROLOGUE</br>We should start back,” Gared urged as the woods began to grow dark around them. “The</br>wildlings are dead.”</br>“Do the dead frighten you?” Ser \n",
       "<mark class=\"entity\" style=\"background: #aa9cfc; padding: 0.45em 0.6em; margin: 0 0.25em; line-height: 1; border-radius: 0.35em;\">\n",
       "    Waymar Royce\n",
       "    <span style=\"font-size: 0.8em; font-weight: bold; line-height: 1; border-radius: 0.35em; vertical-align: middle; margin-left: 0.5rem\">PERSON</span>\n",
       "</mark>\n",
       " asked with just the hint of a smile.</br>\n",
       "<mark class=\"entity\" style=\"background: #bfeeb7; padding: 0.45em 0.6em; margin: 0 0.25em; line-height: 1; border-radius: 0.35em;\">\n",
       "    Gared\n",
       "    <span style=\"font-size: 0.8em; font-weight: bold; line-height: 1; border-radius: 0.35em; vertical-align: middle; margin-left: 0.5rem\">PRODUCT</span>\n",
       "</mark>\n",
       " did not rise to the bait. He was an old man, past fifty, and he had seen the</br>lordlings come and go. “Dead is dead,” he said. “We have no business with the dead.”</br>“Are they dead?” Royce asked softly. “What proof have we?”</br>“Will saw them,” Gared said. “If he says they are dead, that’s proof enough for me.”</br>Will had known they would drag him into the quarrel sooner or later. He wished it had</br>been later rather than sooner. “My mother told me that dead men sing no songs,” he put</br>in.</br>“My wet nurse said the same thing, Will,” Royce replied. “Never believe anything you</br>hear at a woman’s tit. There are things to be learned even from the dead.” His voice</br>echoed, too loud in the twilit forest.</br>“We have a long ride before us,” Gared pointed out. “\n",
       "<mark class=\"entity\" style=\"background: #bfe1d9; padding: 0.45em 0.6em; margin: 0 0.25em; line-height: 1; border-radius: 0.35em;\">\n",
       "    Eight days\n",
       "    <span style=\"font-size: 0.8em; font-weight: bold; line-height: 1; border-radius: 0.35em; vertical-align: middle; margin-left: 0.5rem\">DATE</span>\n",
       "</mark>\n",
       ", maybe \n",
       "<mark class=\"entity\" style=\"background: #e4e7d2; padding: 0.45em 0.6em; margin: 0 0.25em; line-height: 1; border-radius: 0.35em;\">\n",
       "    nine\n",
       "    <span style=\"font-size: 0.8em; font-weight: bold; line-height: 1; border-radius: 0.35em; vertical-align: middle; margin-left: 0.5rem\">CARDINAL</span>\n",
       "</mark>\n",
       ". And \n",
       "<mark class=\"entity\" style=\"background: #bfe1d9; padding: 0.45em 0.6em; margin: 0 0.25em; line-height: 1; border-radius: 0.35em;\">\n",
       "    night\n",
       "    <span style=\"font-size: 0.8em; font-weight: bold; line-height: 1; border-radius: 0.35em; vertical-align: middle; margin-left: 0.5rem\">TIME</span>\n",
       "</mark>\n",
       "</br>is falling.”</br>Ser Waymar Royce glanced at the sky with disinterest. “It does that every day about this</br>time. Are you unmanned by the dark, \n",
       "<mark class=\"entity\" style=\"background: #bfeeb7; padding: 0.45em 0.6em; margin: 0 0.25em; line-height: 1; border-radius: 0.35em;\">\n",
       "    Gared\n",
       "    <span style=\"font-size: 0.8em; font-weight: bold; line-height: 1; border-radius: 0.35em; vertical-align: middle; margin-left: 0.5rem\">PRODUCT</span>\n",
       "</mark>\n",
       "?”</br>Will could see the tightness around Gared’s mouth, the barely suppressed anger in his</br>eyes under the thick black hood of his cloak. Gared had spent \n",
       "<mark class=\"entity\" style=\"background: #bfe1d9; padding: 0.45em 0.6em; margin: 0 0.25em; line-height: 1; border-radius: 0.35em;\">\n",
       "    forty years\n",
       "    <span style=\"font-size: 0.8em; font-weight: bold; line-height: 1; border-radius: 0.35em; vertical-align: middle; margin-left: 0.5rem\">DATE</span>\n",
       "</mark>\n",
       " in the Night’s</br>Watch, man and boy, and he was not accustomed to being made light of. Yet it was more</br>than that. Under the wounded pride, Will could sense something else in the older man.</br>You could taste it; a nervous tension that came perilous close to fear.</br>Will shared his unease. He had been \n",
       "<mark class=\"entity\" style=\"background: #bfe1d9; padding: 0.45em 0.6em; margin: 0 0.25em; line-height: 1; border-radius: 0.35em;\">\n",
       "    four years\n",
       "    <span style=\"font-size: 0.8em; font-weight: bold; line-height: 1; border-radius: 0.35em; vertical-align: middle; margin-left: 0.5rem\">DATE</span>\n",
       "</mark>\n",
       " on the Wall. The \n",
       "<mark class=\"entity\" style=\"background: #e4e7d2; padding: 0.45em 0.6em; margin: 0 0.25em; line-height: 1; border-radius: 0.35em;\">\n",
       "    first\n",
       "    <span style=\"font-size: 0.8em; font-weight: bold; line-height: 1; border-radius: 0.35em; vertical-align: middle; margin-left: 0.5rem\">ORDINAL</span>\n",
       "</mark>\n",
       " time he had been</br>sent beyond, all the old stories had come rushing back, and his bowels had turned to</br>water. He had laughed about it afterward. He was a veteran of \n",
       "<mark class=\"entity\" style=\"background: #e4e7d2; padding: 0.45em 0.6em; margin: 0 0.25em; line-height: 1; border-radius: 0.35em;\">\n",
       "    a hundred\n",
       "    <span style=\"font-size: 0.8em; font-weight: bold; line-height: 1; border-radius: 0.35em; vertical-align: middle; margin-left: 0.5rem\">CARDINAL</span>\n",
       "</mark>\n",
       " rangings by</br></br>\f",
       "now, and the endless dark wilderness that the southron called the haunted forest had no</br>more terrors for him.</br>Until \n",
       "<mark class=\"entity\" style=\"background: #bfe1d9; padding: 0.45em 0.6em; margin: 0 0.25em; line-height: 1; border-radius: 0.35em;\">\n",
       "    tonight\n",
       "    <span style=\"font-size: 0.8em; font-weight: bold; line-height: 1; border-radius: 0.35em; vertical-align: middle; margin-left: 0.5rem\">TIME</span>\n",
       "</mark>\n",
       ". Something was different \n",
       "<mark class=\"entity\" style=\"background: #bfe1d9; padding: 0.45em 0.6em; margin: 0 0.25em; line-height: 1; border-radius: 0.35em;\">\n",
       "    tonight\n",
       "    <span style=\"font-size: 0.8em; font-weight: bold; line-height: 1; border-radius: 0.35em; vertical-align: middle; margin-left: 0.5rem\">TIME</span>\n",
       "</mark>\n",
       ". There was an edge to this darkness that</br>made his hackles rise. \n",
       "<mark class=\"entity\" style=\"background: #bfe1d9; padding: 0.45em 0.6em; margin: 0 0.25em; line-height: 1; border-radius: 0.35em;\">\n",
       "    Nine days\n",
       "    <span style=\"font-size: 0.8em; font-weight: bold; line-height: 1; border-radius: 0.35em; vertical-align: middle; margin-left: 0.5rem\">DATE</span>\n",
       "</mark>\n",
       " they had been riding, north and northwest and then</br>north again, farther and farther from the Wall, hard on the track of a band of wildling</br>raiders. \n",
       "<mark class=\"entity\" style=\"background: #bfe1d9; padding: 0.45em 0.6em; margin: 0 0.25em; line-height: 1; border-radius: 0.35em;\">\n",
       "    Each day\n",
       "    <span style=\"font-size: 0.8em; font-weight: bold; line-height: 1; border-radius: 0.35em; vertical-align: middle; margin-left: 0.5rem\">DATE</span>\n",
       "</mark>\n",
       " had been worse than \n",
       "<mark class=\"entity\" style=\"background: #bfe1d9; padding: 0.45em 0.6em; margin: 0 0.25em; line-height: 1; border-radius: 0.35em;\">\n",
       "    the day\n",
       "    <span style=\"font-size: 0.8em; font-weight: bold; line-height: 1; border-radius: 0.35em; vertical-align: middle; margin-left: 0.5rem\">DATE</span>\n",
       "</mark>\n",
       " that had come before it. \n",
       "<mark class=\"entity\" style=\"background: #bfe1d9; padding: 0.45em 0.6em; margin: 0 0.25em; line-height: 1; border-radius: 0.35em;\">\n",
       "    Today\n",
       "    <span style=\"font-size: 0.8em; font-weight: bold; line-height: 1; border-radius: 0.35em; vertical-align: middle; margin-left: 0.5rem\">DATE</span>\n",
       "</mark>\n",
       " was the</br>worst of all. A cold wind was blowing out of the north, and it made the trees rustle like</br>living things. \n",
       "<mark class=\"entity\" style=\"background: #bfe1d9; padding: 0.45em 0.6em; margin: 0 0.25em; line-height: 1; border-radius: 0.35em;\">\n",
       "    All day\n",
       "    <span style=\"font-size: 0.8em; font-weight: bold; line-height: 1; border-radius: 0.35em; vertical-align: middle; margin-left: 0.5rem\">DATE</span>\n",
       "</mark>\n",
       ", Will had felt as though something were watching him, something</br>cold and implacable that loved him not. Gared had felt it too. Will wanted nothing so</br>much as to ride hellbent for the safety of the Wall, but that was not a feeling to share</br>with your commander.</br>Especially not a commander like this one.</br>Ser Waymar Royce was the youngest son of an ancient house with too many heirs. He</br>was a handsome youth of \n",
       "<mark class=\"entity\" style=\"background: #e4e7d2; padding: 0.45em 0.6em; margin: 0 0.25em; line-height: 1; border-radius: 0.35em;\">\n",
       "    eighteen\n",
       "    <span style=\"font-size: 0.8em; font-weight: bold; line-height: 1; border-radius: 0.35em; vertical-align: middle; margin-left: 0.5rem\">CARDINAL</span>\n",
       "</mark>\n",
       ", grey-eyed and graceful and slender as a knife.</br>Mounted on his huge black destrier, the knight towered above \n",
       "<mark class=\"entity\" style=\"background: #f0d0ff; padding: 0.45em 0.6em; margin: 0 0.25em; line-height: 1; border-radius: 0.35em;\">\n",
       "    Will and Gared\n",
       "    <span style=\"font-size: 0.8em; font-weight: bold; line-height: 1; border-radius: 0.35em; vertical-align: middle; margin-left: 0.5rem\">WORK_OF_ART</span>\n",
       "</mark>\n",
       " on their</br>smaller garrons. He wore black leather boots, black woolen pants, black moleskin gloves,</br>and a fine supple coat of gleaming black ringmail over layers of black wool and boiled</br>leather. Ser \n",
       "<mark class=\"entity\" style=\"background: #aa9cfc; padding: 0.45em 0.6em; margin: 0 0.25em; line-height: 1; border-radius: 0.35em;\">\n",
       "    Waymar\n",
       "    <span style=\"font-size: 0.8em; font-weight: bold; line-height: 1; border-radius: 0.35em; vertical-align: middle; margin-left: 0.5rem\">PERSON</span>\n",
       "</mark>\n",
       " had been a Sworn Brother of \n",
       "<mark class=\"entity\" style=\"background: #7aecec; padding: 0.45em 0.6em; margin: 0 0.25em; line-height: 1; border-radius: 0.35em;\">\n",
       "    the Night’s Watch\n",
       "    <span style=\"font-size: 0.8em; font-weight: bold; line-height: 1; border-radius: 0.35em; vertical-align: middle; margin-left: 0.5rem\">ORG</span>\n",
       "</mark>\n",
       " for \n",
       "<mark class=\"entity\" style=\"background: #e4e7d2; padding: 0.45em 0.6em; margin: 0 0.25em; line-height: 1; border-radius: 0.35em;\">\n",
       "    less than half\n",
       "    <span style=\"font-size: 0.8em; font-weight: bold; line-height: 1; border-radius: 0.35em; vertical-align: middle; margin-left: 0.5rem\">CARDINAL</span>\n",
       "</mark>\n",
       " a</br>year, but no one could say he had not prepared for his vocation. \n",
       "<mark class=\"entity\" style=\"background: #e4e7d2; padding: 0.45em 0.6em; margin: 0 0.25em; line-height: 1; border-radius: 0.35em;\">\n",
       "    At least\n",
       "    <span style=\"font-size: 0.8em; font-weight: bold; line-height: 1; border-radius: 0.35em; vertical-align: middle; margin-left: 0.5rem\">CARDINAL</span>\n",
       "</mark>\n",
       " insofar as his</br>wardrobe was concerned.</br>His cloak was his crowning glory; sable, thick and black and soft as sin. “Bet he killed</br>them all himself, he did,” Gared told the barracks over wine, “twisted their little heads</br>off, our mighty warrior.” They had all shared the laugh.</br>It is hard to take orders from a man you laughed at in your cups, Will reflected as he sat</br>shivering atop his garron. Gared must have felt the same.</br>“Mormont said as we should track them, and we did,” Gared said. “They’re dead. They</br>shan’t trouble us no more. There’s hard riding before us. I don’t like this weather. If it</br>snows, we could be a fortnight getting back, and snow’s the best we can hope for. Ever</br>seen an ice storm, my lord?”</br>The lordling seemed not to hear him. He studied the deepening twilight in that halfbored, \n",
       "<mark class=\"entity\" style=\"background: #e4e7d2; padding: 0.45em 0.6em; margin: 0 0.25em; line-height: 1; border-radius: 0.35em;\">\n",
       "    half\n",
       "    <span style=\"font-size: 0.8em; font-weight: bold; line-height: 1; border-radius: 0.35em; vertical-align: middle; margin-left: 0.5rem\">CARDINAL</span>\n",
       "</mark>\n",
       "-distracted way he had. Will had ridden with the knight long enough to</br>understand that it was best not to interrupt him when he looked </div></span>"
      ],
      "text/plain": [
       "<IPython.core.display.HTML object>"
      ]
     },
     "metadata": {},
     "output_type": "display_data"
    }
   ],
   "source": [
    "# Visualize identified entities\n",
    "displacy.render(book_doc[0:1000], style=\"ent\", jupyter=True)"
   ]
  },
  {
   "cell_type": "code",
   "execution_count": null,
   "id": "faa3a058",
   "metadata": {},
   "outputs": [],
   "source": [
    "# create dataframe with character full names and first names\n",
    "character_df = pd.DataFrame({'first_name': ['Jon', 'Daenerys', 'Tyrion'], 'full_name': ['Jon Snow', 'Daenerys Targaryen', 'Tyrion Lannister']})\n",
    "\n",
    "# create a set of all character names (both full names and first names)\n",
    "character_names = set(character_df['first_name'].tolist() + character_df['full_name'].tolist())\n",
    "\n",
    "\n",
    "character_names"
   ]
  },
  {
   "cell_type": "markdown",
   "id": "ce211982",
   "metadata": {},
   "source": [
    "## Get name entity list per sentence"
   ]
  },
  {
   "cell_type": "code",
   "execution_count": 32,
   "id": "ccb5d856",
   "metadata": {},
   "outputs": [],
   "source": [
    "sent_entity_df = []\n",
    "\n",
    "# Loop through sentences, store named entity list for each sentence\n",
    "for sent in book_doc.sents:\n",
    "    entity_list = [ent.text for ent in sent.ents]\n",
    "    sent_entity_df.append({\"sentence\": sent, \"entities\": entity_list})\n",
    "    \n",
    "sent_entity_df = pd.DataFrame(sent_entity_df)\n"
   ]
  },
  {
   "cell_type": "code",
   "execution_count": 33,
   "id": "4f7693c2",
   "metadata": {},
   "outputs": [
    {
     "data": {
      "text/html": [
       "<div>\n",
       "<style scoped>\n",
       "    .dataframe tbody tr th:only-of-type {\n",
       "        vertical-align: middle;\n",
       "    }\n",
       "\n",
       "    .dataframe tbody tr th {\n",
       "        vertical-align: top;\n",
       "    }\n",
       "\n",
       "    .dataframe thead th {\n",
       "        text-align: right;\n",
       "    }\n",
       "</style>\n",
       "<table border=\"1\" class=\"dataframe\">\n",
       "  <thead>\n",
       "    <tr style=\"text-align: right;\">\n",
       "      <th></th>\n",
       "      <th>sentence</th>\n",
       "      <th>entities</th>\n",
       "    </tr>\n",
       "  </thead>\n",
       "  <tbody>\n",
       "    <tr>\n",
       "      <th>0</th>\n",
       "      <td>(\f",
       ", PROLOGUE, \\n, We, should, start, back, ,, ...</td>\n",
       "      <td>[]</td>\n",
       "    </tr>\n",
       "    <tr>\n",
       "      <th>1</th>\n",
       "      <td>(“, The, \\n, wildlings, are, dead, ., ”, \\n)</td>\n",
       "      <td>[]</td>\n",
       "    </tr>\n",
       "    <tr>\n",
       "      <th>2</th>\n",
       "      <td>(“, Do, the, dead, frighten, you, ?, ”)</td>\n",
       "      <td>[]</td>\n",
       "    </tr>\n",
       "    <tr>\n",
       "      <th>3</th>\n",
       "      <td>(Ser, Waymar, Royce, asked, with, just, the, h...</td>\n",
       "      <td>[Waymar Royce]</td>\n",
       "    </tr>\n",
       "    <tr>\n",
       "      <th>4</th>\n",
       "      <td>(Gared, did, not, rise, to, the, bait, .)</td>\n",
       "      <td>[Gared]</td>\n",
       "    </tr>\n",
       "  </tbody>\n",
       "</table>\n",
       "</div>"
      ],
      "text/plain": [
       "                                            sentence        entities\n",
       "0  (\n",
       ", PROLOGUE, \\n, We, should, start, back, ,, ...              []\n",
       "1       (“, The, \\n, wildlings, are, dead, ., ”, \\n)              []\n",
       "2            (“, Do, the, dead, frighten, you, ?, ”)              []\n",
       "3  (Ser, Waymar, Royce, asked, with, just, the, h...  [Waymar Royce]\n",
       "4          (Gared, did, not, rise, to, the, bait, .)         [Gared]"
      ]
     },
     "execution_count": 33,
     "metadata": {},
     "output_type": "execute_result"
    }
   ],
   "source": [
    "sent_entity_df.head()"
   ]
  },
  {
   "cell_type": "code",
   "execution_count": null,
   "id": "387c6fd5",
   "metadata": {},
   "outputs": [],
   "source": []
  }
 ],
 "metadata": {
  "kernelspec": {
   "display_name": "Python 3 (ipykernel)",
   "language": "python",
   "name": "python3"
  },
  "language_info": {
   "codemirror_mode": {
    "name": "ipython",
    "version": 3
   },
   "file_extension": ".py",
   "mimetype": "text/x-python",
   "name": "python",
   "nbconvert_exporter": "python",
   "pygments_lexer": "ipython3",
   "version": "3.10.6"
  },
  "toc": {
   "base_numbering": 1,
   "nav_menu": {},
   "number_sections": true,
   "sideBar": true,
   "skip_h1_title": false,
   "title_cell": "Table of Contents",
   "title_sidebar": "Contents",
   "toc_cell": false,
   "toc_position": {},
   "toc_section_display": true,
   "toc_window_display": false
  },
  "varInspector": {
   "cols": {
    "lenName": 16,
    "lenType": 16,
    "lenVar": 40
   },
   "kernels_config": {
    "python": {
     "delete_cmd_postfix": "",
     "delete_cmd_prefix": "del ",
     "library": "var_list.py",
     "varRefreshCmd": "print(var_dic_list())"
    },
    "r": {
     "delete_cmd_postfix": ") ",
     "delete_cmd_prefix": "rm(",
     "library": "var_list.r",
     "varRefreshCmd": "cat(var_dic_list()) "
    }
   },
   "types_to_exclude": [
    "module",
    "function",
    "builtin_function_or_method",
    "instance",
    "_Feature"
   ],
   "window_display": false
  }
 },
 "nbformat": 4,
 "nbformat_minor": 5
}
