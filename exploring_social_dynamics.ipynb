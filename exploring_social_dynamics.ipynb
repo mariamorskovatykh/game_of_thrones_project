{
 "cells": [
  {
   "cell_type": "markdown",
   "id": "79082288",
   "metadata": {},
   "source": [
    "# Character Social Network Analysis"
   ]
  },
  {
   "cell_type": "code",
   "execution_count": 2,
   "id": "ae206865",
   "metadata": {},
   "outputs": [],
   "source": [
    "import pandas as pd\n",
    "import numpy as np\n",
    "import spacy\n",
    "from spacy import displacy\n",
    "import networkx as nx\n",
    "import os\n",
    "import re\n",
    "\n",
    "import seaborn as sns\n",
    "import matplotlib.pyplot as plt"
   ]
  },
  {
   "cell_type": "code",
   "execution_count": null,
   "id": "6f59c27a",
   "metadata": {},
   "outputs": [],
   "source": [
    "!python3 -m spacy download en_core_web_sm"
   ]
  },
  {
   "cell_type": "code",
   "execution_count": 41,
   "id": "d71f210e",
   "metadata": {},
   "outputs": [],
   "source": [
    "# Load the model\n",
    "nlp = spacy.load(\"en_core_web_sm\")\n",
    "\n",
    "# Increase the maximum length\n",
    "nlp.max_length = 2500000"
   ]
  },
  {
   "cell_type": "markdown",
   "id": "e5472d50",
   "metadata": {},
   "source": [
    "## Load the character data frame"
   ]
  },
  {
   "cell_type": "code",
   "execution_count": 26,
   "id": "330823d5",
   "metadata": {},
   "outputs": [],
   "source": [
    "# open csv file\n",
    "character_df = pd.read_csv(\"characters_merged.csv\")"
   ]
  },
  {
   "cell_type": "code",
   "execution_count": 27,
   "id": "1b56854b",
   "metadata": {},
   "outputs": [],
   "source": [
    "# Clean up data frame\n",
    "\n",
    "# Delete automatically generated column\n",
    "del character_df[\"Unnamed: 0\"]\n",
    "\n",
    "# Add first name into a separate column\n",
    "character_df['character_firstname'] = character_df['character_name'].apply(lambda x: x.split(' ', 1)[0])\n",
    "\n",
    "# Replace 'Unknown' with np.nan\n",
    "character_df[\"alias\"].replace('Unknown',np.nan,inplace=True)\n",
    "\n",
    "character_df[\"alias\"] = character_df[\"alias\"].astype(str)\n",
    "character_df[\"alias\"]\n",
    "\n",
    "# Replace 'The' with empty string\n",
    "character_df[\"alias\"] = character_df[\"alias\"].map(lambda x: x.replace(\"The \", \"\"))\n",
    "\n",
    "# Remove a part of the Ramsay Bolton's aliases\n",
    "character_df[\"alias\"] = np.where(character_df['character_name']=='Ramsay Bolton',character_df['alias'].replace(re.compile(',Reek,Red Helm,Monster'), '', regex=True),character_df['alias'])\n",
    "\n",
    "# Separate string by ',' and create a list\n",
    "character_df['alias'] = character_df['alias'].str.split(',')\n"
   ]
  },
  {
   "cell_type": "code",
   "execution_count": 28,
   "id": "7bf12a44",
   "metadata": {},
   "outputs": [
    {
     "data": {
      "text/html": [
       "<div>\n",
       "<style scoped>\n",
       "    .dataframe tbody tr th:only-of-type {\n",
       "        vertical-align: middle;\n",
       "    }\n",
       "\n",
       "    .dataframe tbody tr th {\n",
       "        vertical-align: top;\n",
       "    }\n",
       "\n",
       "    .dataframe thead th {\n",
       "        text-align: right;\n",
       "    }\n",
       "</style>\n",
       "<table border=\"1\" class=\"dataframe\">\n",
       "  <thead>\n",
       "    <tr style=\"text-align: right;\">\n",
       "      <th></th>\n",
       "      <th>character_name</th>\n",
       "      <th>alias</th>\n",
       "      <th>character_firstname</th>\n",
       "    </tr>\n",
       "  </thead>\n",
       "  <tbody>\n",
       "    <tr>\n",
       "      <th>0</th>\n",
       "      <td>Addam Marbrand</td>\n",
       "      <td>[nan]</td>\n",
       "      <td>Addam</td>\n",
       "    </tr>\n",
       "    <tr>\n",
       "      <th>1</th>\n",
       "      <td>Adrack Humble</td>\n",
       "      <td>[nan]</td>\n",
       "      <td>Adrack</td>\n",
       "    </tr>\n",
       "    <tr>\n",
       "      <th>5</th>\n",
       "      <td>Aegon Frey</td>\n",
       "      <td>[nan]</td>\n",
       "      <td>Aegon</td>\n",
       "    </tr>\n",
       "    <tr>\n",
       "      <th>10</th>\n",
       "      <td>Aegon I Targaryen</td>\n",
       "      <td>[Aegon the Conqueror, Aegon the Dragonlord, Ae...</td>\n",
       "      <td>Aegon</td>\n",
       "    </tr>\n",
       "    <tr>\n",
       "      <th>11</th>\n",
       "      <td>Aemon (wildling)</td>\n",
       "      <td>[nan]</td>\n",
       "      <td>Aemon</td>\n",
       "    </tr>\n",
       "  </tbody>\n",
       "</table>\n",
       "</div>"
      ],
      "text/plain": [
       "       character_name                                              alias  \\\n",
       "0      Addam Marbrand                                              [nan]   \n",
       "1       Adrack Humble                                              [nan]   \n",
       "5          Aegon Frey                                              [nan]   \n",
       "10  Aegon I Targaryen  [Aegon the Conqueror, Aegon the Dragonlord, Ae...   \n",
       "11   Aemon (wildling)                                              [nan]   \n",
       "\n",
       "   character_firstname  \n",
       "0                Addam  \n",
       "1               Adrack  \n",
       "5                Aegon  \n",
       "10               Aegon  \n",
       "11               Aemon  "
      ]
     },
     "execution_count": 28,
     "metadata": {},
     "output_type": "execute_result"
    }
   ],
   "source": [
    "# Delete character duplicates to reduce computing load when replacing aliases\n",
    "character_df = character_df.drop(\"book\", axis=1)\n",
    "character_df = character_df.drop_duplicates(subset=[\"character_name\"], keep='last')\n",
    "character_df.head()"
   ]
  },
  {
   "cell_type": "markdown",
   "id": "e536a75c",
   "metadata": {},
   "source": [
    "## Load books"
   ]
  },
  {
   "cell_type": "code",
   "execution_count": 29,
   "id": "66241cbf",
   "metadata": {},
   "outputs": [
    {
     "name": "stdout",
     "output_type": "stream",
     "text": [
      "['1_A_Game_Of_Thrones.txt', '2_A_Clash_Of_Kings.txt', '3_A_Storm_Of_Swords.txt', '4_A_Feast_For_Crows.txt', '5_A_Dance_With_Dragons.txt']\n"
     ]
    }
   ],
   "source": [
    "# Get book names\n",
    "path = \"books_txt\"\n",
    "current_dir = os.getcwd()\n",
    "abs_path = os.path.abspath(os.path.join(current_dir, path))\n",
    "\n",
    "# Get all files in directory except temporary files\n",
    "books = [book for book in os.listdir(abs_path) if os.path.isfile(os.path.join(path, book)) and not book.startswith('.')]\n",
    "books.sort()\n",
    "\n",
    "# Print all files\n",
    "print(books)"
   ]
  },
  {
   "cell_type": "code",
   "execution_count": 30,
   "id": "4896648a",
   "metadata": {},
   "outputs": [],
   "source": [
    "# Import function\n",
    "from utils.my_functions import replace_word_in_file"
   ]
  },
  {
   "cell_type": "code",
   "execution_count": 33,
   "id": "78ba61c6",
   "metadata": {},
   "outputs": [
    {
     "data": {
      "text/plain": [
       "413"
      ]
     },
     "execution_count": 33,
     "metadata": {},
     "output_type": "execute_result"
    }
   ],
   "source": [
    "# check presense of aliases before applying the function\n",
    "book_text = open(f\"{abs_path}/{books[0]}\").read()\n",
    "book_text.count(\"Dany\")"
   ]
  },
  {
   "cell_type": "code",
   "execution_count": 34,
   "id": "36753c64",
   "metadata": {},
   "outputs": [],
   "source": [
    "# Iterate through books to replace aliases with full names\n",
    "\n",
    "for book in books:\n",
    "    book_path = f\"{abs_path}/{book}\"\n",
    "\n",
    "    # iterate through character aliases and replace in text\n",
    "    for i, row in character_df.iterrows():\n",
    "        for alias in row['alias']:\n",
    "            replace_word_in_file(book_path, alias, row['character_name'])"
   ]
  },
  {
   "cell_type": "code",
   "execution_count": 35,
   "id": "b6d8de85",
   "metadata": {},
   "outputs": [
    {
     "data": {
      "text/plain": [
       "0"
      ]
     },
     "execution_count": 35,
     "metadata": {},
     "output_type": "execute_result"
    }
   ],
   "source": [
    "# sanity check\n",
    "book_text = open(f\"{abs_path}/{books[0]}\").read()\n",
    "book_text.count(\"Dany\")"
   ]
  },
  {
   "cell_type": "markdown",
   "id": "aa523e09",
   "metadata": {},
   "source": [
    "## Named entity recognition"
   ]
  },
  {
   "cell_type": "code",
   "execution_count": 36,
   "id": "fdbf49ef",
   "metadata": {},
   "outputs": [],
   "source": [
    "# Open modified text files and append to a list\n",
    "\n",
    "modified_books = []\n",
    "\n",
    "for book in books:\n",
    "    book_text = open(f\"{abs_path}/{book}\").read()\n",
    "    modified_books.append(book_text)"
   ]
  },
  {
   "cell_type": "code",
   "execution_count": 42,
   "id": "87e8e80a",
   "metadata": {},
   "outputs": [
    {
     "name": "stdout",
     "output_type": "stream",
     "text": [
      "started processing book 1\n",
      "started processing book 2\n",
      "started processing book 3\n",
      "started processing book 4\n",
      "started processing book 5\n"
     ]
    }
   ],
   "source": [
    "# Apply named entity recognition to books\n",
    "book_docs = []\n",
    "for index, book in enumerate(modified_books):\n",
    "    print(f\"started processing book {index+1}\")\n",
    "    book_doc = nlp(book)\n",
    "    book_docs.append(book_doc)"
   ]
  },
  {
   "cell_type": "code",
   "execution_count": 45,
   "id": "08c80dc4",
   "metadata": {},
   "outputs": [
    {
     "data": {
      "text/html": [
       "<span class=\"tex2jax_ignore\"><div class=\"entities\" style=\"line-height: 2.5; direction: ltr\">\f",
       "PROLOGUE</br>We should start back,” Gared urged as the woods began to grow dark around them. “The</br>wildlings are dead.”</br>“Do the dead frighten you?” Ser \n",
       "<mark class=\"entity\" style=\"background: #aa9cfc; padding: 0.45em 0.6em; margin: 0 0.25em; line-height: 1; border-radius: 0.35em;\">\n",
       "    Waymar Royce\n",
       "    <span style=\"font-size: 0.8em; font-weight: bold; line-height: 1; border-radius: 0.35em; vertical-align: middle; margin-left: 0.5rem\">PERSON</span>\n",
       "</mark>\n",
       " asked with just the hint of a smile.</br>\n",
       "<mark class=\"entity\" style=\"background: #bfeeb7; padding: 0.45em 0.6em; margin: 0 0.25em; line-height: 1; border-radius: 0.35em;\">\n",
       "    Gared\n",
       "    <span style=\"font-size: 0.8em; font-weight: bold; line-height: 1; border-radius: 0.35em; vertical-align: middle; margin-left: 0.5rem\">PRODUCT</span>\n",
       "</mark>\n",
       " did not rise to the bait. He was an old man, past fifty, and he had seen the</br>lordlings come and go. “Dead is dead,” he said. “We have no business with the dead.”</br>“Are they dead?” Royce asked softly. “What proof have we?”</br>“Will saw them,” Gared said. “If he says they are dead, that’s proof enough for me.”</br>Will had known they would drag him into the quarrel sooner or later. He wished it had</br>been later rather than sooner. “My mother told me that dead men sing no songs,” he put</br>in.</br>“My wet nurse said the same thing, Will,” Royce replied. “Never believe anything you</br>hear at a woman’s tit. There are things to be learned even from the dead.” His voice</br>echoed, too loud in the twilit forest.</br>“We have a long ride before us,” Gared pointed out. “\n",
       "<mark class=\"entity\" style=\"background: #bfe1d9; padding: 0.45em 0.6em; margin: 0 0.25em; line-height: 1; border-radius: 0.35em;\">\n",
       "    Eight days\n",
       "    <span style=\"font-size: 0.8em; font-weight: bold; line-height: 1; border-radius: 0.35em; vertical-align: middle; margin-left: 0.5rem\">DATE</span>\n",
       "</mark>\n",
       ", maybe \n",
       "<mark class=\"entity\" style=\"background: #e4e7d2; padding: 0.45em 0.6em; margin: 0 0.25em; line-height: 1; border-radius: 0.35em;\">\n",
       "    nine\n",
       "    <span style=\"font-size: 0.8em; font-weight: bold; line-height: 1; border-radius: 0.35em; vertical-align: middle; margin-left: 0.5rem\">CARDINAL</span>\n",
       "</mark>\n",
       ". And \n",
       "<mark class=\"entity\" style=\"background: #bfe1d9; padding: 0.45em 0.6em; margin: 0 0.25em; line-height: 1; border-radius: 0.35em;\">\n",
       "    night\n",
       "    <span style=\"font-size: 0.8em; font-weight: bold; line-height: 1; border-radius: 0.35em; vertical-align: middle; margin-left: 0.5rem\">TIME</span>\n",
       "</mark>\n",
       "</br>is falling.”</br>Ser Waymar Royce glanced at the sky with disinterest. “It does that every day about this</br>time. Are you unmanned by the dark, \n",
       "<mark class=\"entity\" style=\"background: #bfeeb7; padding: 0.45em 0.6em; margin: 0 0.25em; line-height: 1; border-radius: 0.35em;\">\n",
       "    Gared\n",
       "    <span style=\"font-size: 0.8em; font-weight: bold; line-height: 1; border-radius: 0.35em; vertical-align: middle; margin-left: 0.5rem\">PRODUCT</span>\n",
       "</mark>\n",
       "?”</br>Will could see the tightness around Gared’s mouth, the barely suppressed anger in his</br>eyes under the thick black hood of his cloak. Gared had spent \n",
       "<mark class=\"entity\" style=\"background: #bfe1d9; padding: 0.45em 0.6em; margin: 0 0.25em; line-height: 1; border-radius: 0.35em;\">\n",
       "    forty years\n",
       "    <span style=\"font-size: 0.8em; font-weight: bold; line-height: 1; border-radius: 0.35em; vertical-align: middle; margin-left: 0.5rem\">DATE</span>\n",
       "</mark>\n",
       " in the Night’s</br>Watch, man and boy, and he was not accustomed to being made light of. Yet it was more</br>than that. Under the wounded pride, Will could sense something else in the older man.</br>You could taste it; a nervous tension that came perilous close to fear.</br>Will shared his unease. He had been \n",
       "<mark class=\"entity\" style=\"background: #bfe1d9; padding: 0.45em 0.6em; margin: 0 0.25em; line-height: 1; border-radius: 0.35em;\">\n",
       "    four years\n",
       "    <span style=\"font-size: 0.8em; font-weight: bold; line-height: 1; border-radius: 0.35em; vertical-align: middle; margin-left: 0.5rem\">DATE</span>\n",
       "</mark>\n",
       " on the Wall. The \n",
       "<mark class=\"entity\" style=\"background: #e4e7d2; padding: 0.45em 0.6em; margin: 0 0.25em; line-height: 1; border-radius: 0.35em;\">\n",
       "    first\n",
       "    <span style=\"font-size: 0.8em; font-weight: bold; line-height: 1; border-radius: 0.35em; vertical-align: middle; margin-left: 0.5rem\">ORDINAL</span>\n",
       "</mark>\n",
       " time he had been</br>sent beyond, all the old stories had come rushing back, and his bowels had turned to</br>water. He had laughed about it afterward. He was a veteran of \n",
       "<mark class=\"entity\" style=\"background: #e4e7d2; padding: 0.45em 0.6em; margin: 0 0.25em; line-height: 1; border-radius: 0.35em;\">\n",
       "    a hundred\n",
       "    <span style=\"font-size: 0.8em; font-weight: bold; line-height: 1; border-radius: 0.35em; vertical-align: middle; margin-left: 0.5rem\">CARDINAL</span>\n",
       "</mark>\n",
       " rangings by</br></br>\f",
       "now, and the endless dark wilderness that the southron called the haunted forest had no</br>more terrors for him.</br>Until \n",
       "<mark class=\"entity\" style=\"background: #bfe1d9; padding: 0.45em 0.6em; margin: 0 0.25em; line-height: 1; border-radius: 0.35em;\">\n",
       "    tonight\n",
       "    <span style=\"font-size: 0.8em; font-weight: bold; line-height: 1; border-radius: 0.35em; vertical-align: middle; margin-left: 0.5rem\">TIME</span>\n",
       "</mark>\n",
       ". Something was different \n",
       "<mark class=\"entity\" style=\"background: #bfe1d9; padding: 0.45em 0.6em; margin: 0 0.25em; line-height: 1; border-radius: 0.35em;\">\n",
       "    tonight\n",
       "    <span style=\"font-size: 0.8em; font-weight: bold; line-height: 1; border-radius: 0.35em; vertical-align: middle; margin-left: 0.5rem\">TIME</span>\n",
       "</mark>\n",
       ". There was an edge to this darkness that</br>made his hackles rise. \n",
       "<mark class=\"entity\" style=\"background: #bfe1d9; padding: 0.45em 0.6em; margin: 0 0.25em; line-height: 1; border-radius: 0.35em;\">\n",
       "    Nine days\n",
       "    <span style=\"font-size: 0.8em; font-weight: bold; line-height: 1; border-radius: 0.35em; vertical-align: middle; margin-left: 0.5rem\">DATE</span>\n",
       "</mark>\n",
       " they had been riding, north and northwest and then</br>north again, farther and farther from the Wall, hard on the track of a band of wildling</br>raiders. \n",
       "<mark class=\"entity\" style=\"background: #bfe1d9; padding: 0.45em 0.6em; margin: 0 0.25em; line-height: 1; border-radius: 0.35em;\">\n",
       "    Each day\n",
       "    <span style=\"font-size: 0.8em; font-weight: bold; line-height: 1; border-radius: 0.35em; vertical-align: middle; margin-left: 0.5rem\">DATE</span>\n",
       "</mark>\n",
       " had been worse than \n",
       "<mark class=\"entity\" style=\"background: #bfe1d9; padding: 0.45em 0.6em; margin: 0 0.25em; line-height: 1; border-radius: 0.35em;\">\n",
       "    the day\n",
       "    <span style=\"font-size: 0.8em; font-weight: bold; line-height: 1; border-radius: 0.35em; vertical-align: middle; margin-left: 0.5rem\">DATE</span>\n",
       "</mark>\n",
       " that had come before it. \n",
       "<mark class=\"entity\" style=\"background: #bfe1d9; padding: 0.45em 0.6em; margin: 0 0.25em; line-height: 1; border-radius: 0.35em;\">\n",
       "    Today\n",
       "    <span style=\"font-size: 0.8em; font-weight: bold; line-height: 1; border-radius: 0.35em; vertical-align: middle; margin-left: 0.5rem\">DATE</span>\n",
       "</mark>\n",
       " was the</br>worst of all. A cold wind was blowing out of the north, and it made the trees rustle like</br>living things. \n",
       "<mark class=\"entity\" style=\"background: #bfe1d9; padding: 0.45em 0.6em; margin: 0 0.25em; line-height: 1; border-radius: 0.35em;\">\n",
       "    All day\n",
       "    <span style=\"font-size: 0.8em; font-weight: bold; line-height: 1; border-radius: 0.35em; vertical-align: middle; margin-left: 0.5rem\">DATE</span>\n",
       "</mark>\n",
       ", Will had felt as though something were watching him, something</br>cold and implacable that loved him not. Gared had felt it too. Will wanted nothing so</br>much as to ride hellbent for the safety of the Wall, but that was not a feeling to share</br>with your commander.</br>Especially not a commander like this one.</br>Ser Waymar Royce was the youngest son of an ancient house with too many heirs. He</br>was a handsome youth of \n",
       "<mark class=\"entity\" style=\"background: #e4e7d2; padding: 0.45em 0.6em; margin: 0 0.25em; line-height: 1; border-radius: 0.35em;\">\n",
       "    eighteen\n",
       "    <span style=\"font-size: 0.8em; font-weight: bold; line-height: 1; border-radius: 0.35em; vertical-align: middle; margin-left: 0.5rem\">CARDINAL</span>\n",
       "</mark>\n",
       ", grey-eyed and graceful and slender as a knife.</br>Mounted on his huge black destrier, the knight towered above \n",
       "<mark class=\"entity\" style=\"background: #f0d0ff; padding: 0.45em 0.6em; margin: 0 0.25em; line-height: 1; border-radius: 0.35em;\">\n",
       "    Will and Gared\n",
       "    <span style=\"font-size: 0.8em; font-weight: bold; line-height: 1; border-radius: 0.35em; vertical-align: middle; margin-left: 0.5rem\">WORK_OF_ART</span>\n",
       "</mark>\n",
       " on their</br>smaller garrons. He wore black leather boots, black woolen pants, black moleskin gloves,</br>and a fine supple coat of gleaming black ringmail over layers of black wool and boiled</br>leather. Ser \n",
       "<mark class=\"entity\" style=\"background: #aa9cfc; padding: 0.45em 0.6em; margin: 0 0.25em; line-height: 1; border-radius: 0.35em;\">\n",
       "    Waymar\n",
       "    <span style=\"font-size: 0.8em; font-weight: bold; line-height: 1; border-radius: 0.35em; vertical-align: middle; margin-left: 0.5rem\">PERSON</span>\n",
       "</mark>\n",
       " had been a Sworn Brother of \n",
       "<mark class=\"entity\" style=\"background: #7aecec; padding: 0.45em 0.6em; margin: 0 0.25em; line-height: 1; border-radius: 0.35em;\">\n",
       "    the Night’s Watch\n",
       "    <span style=\"font-size: 0.8em; font-weight: bold; line-height: 1; border-radius: 0.35em; vertical-align: middle; margin-left: 0.5rem\">ORG</span>\n",
       "</mark>\n",
       " for \n",
       "<mark class=\"entity\" style=\"background: #e4e7d2; padding: 0.45em 0.6em; margin: 0 0.25em; line-height: 1; border-radius: 0.35em;\">\n",
       "    less than half\n",
       "    <span style=\"font-size: 0.8em; font-weight: bold; line-height: 1; border-radius: 0.35em; vertical-align: middle; margin-left: 0.5rem\">CARDINAL</span>\n",
       "</mark>\n",
       " a</br>year, but no one could say he had not prepared for his vocation. \n",
       "<mark class=\"entity\" style=\"background: #e4e7d2; padding: 0.45em 0.6em; margin: 0 0.25em; line-height: 1; border-radius: 0.35em;\">\n",
       "    At least\n",
       "    <span style=\"font-size: 0.8em; font-weight: bold; line-height: 1; border-radius: 0.35em; vertical-align: middle; margin-left: 0.5rem\">CARDINAL</span>\n",
       "</mark>\n",
       " insofar as his</br>wardrobe was concerned.</br>His cloak was his crowning glory; sable, thick and black and soft as sin. “Bet he killed</br>them all himself, he did,” Gared told the barracks over wine, “twisted their little heads</br>off, our mighty warrior.” They had all shared the laugh.</br>It is hard to take orders from a man you laughed at in your cups, Will reflected as he sat</br>shivering atop his garron. Gared must have felt the same.</br>“Mormont said as we should track them, and we did,” Gared said. “They’re dead. They</br>shan’t trouble us no more. There’s hard riding before us. I don’t like this weather. If it</br>snows, we could be a fortnight getting back, and snow’s the best we can hope for. Ever</br>seen an ice storm, my lord?”</br>The lordling seemed not to hear him. He studied the deepening twilight in that halfbored, \n",
       "<mark class=\"entity\" style=\"background: #e4e7d2; padding: 0.45em 0.6em; margin: 0 0.25em; line-height: 1; border-radius: 0.35em;\">\n",
       "    half\n",
       "    <span style=\"font-size: 0.8em; font-weight: bold; line-height: 1; border-radius: 0.35em; vertical-align: middle; margin-left: 0.5rem\">CARDINAL</span>\n",
       "</mark>\n",
       "-distracted way he had. Will had ridden with the knight long enough to</br>understand that it was best not to interrupt him when he looked </div></span>"
      ],
      "text/plain": [
       "<IPython.core.display.HTML object>"
      ]
     },
     "metadata": {},
     "output_type": "display_data"
    }
   ],
   "source": [
    "# Visualize identified entities\n",
    "displacy.render(book_docs[0][0:1000], style=\"ent\", jupyter=True)"
   ]
  },
  {
   "cell_type": "markdown",
   "id": "5ad909a2",
   "metadata": {},
   "source": [
    "## Get name entity list per sentence"
   ]
  },
  {
   "cell_type": "code",
   "execution_count": null,
   "id": "31194e6e",
   "metadata": {},
   "outputs": [],
   "source": [
    "sent_entity_df = []\n",
    "\n",
    "# Loop through sentences, store named entity list for each sentence\n",
    "for sent in book_docs[0].sents:\n",
    "    entity_list = [ent.text for ent in sent.ents]\n",
    "    sent_entity_df.append({\"sentence\": sent, \"entities\": entity_list})\n",
    "    \n",
    "sent_entity_df = pd.DataFrame(sent_entity_df)\n"
   ]
  },
  {
   "cell_type": "code",
   "execution_count": null,
   "id": "32a9f79e",
   "metadata": {},
   "outputs": [],
   "source": [
    "sent_entity_df.head()"
   ]
  },
  {
   "cell_type": "code",
   "execution_count": null,
   "id": "4c5153a2",
   "metadata": {},
   "outputs": [],
   "source": []
  }
 ],
 "metadata": {
  "kernelspec": {
   "display_name": "Python 3 (ipykernel)",
   "language": "python",
   "name": "python3"
  },
  "language_info": {
   "codemirror_mode": {
    "name": "ipython",
    "version": 3
   },
   "file_extension": ".py",
   "mimetype": "text/x-python",
   "name": "python",
   "nbconvert_exporter": "python",
   "pygments_lexer": "ipython3",
   "version": "3.10.6"
  },
  "toc": {
   "base_numbering": 1,
   "nav_menu": {},
   "number_sections": true,
   "sideBar": true,
   "skip_h1_title": false,
   "title_cell": "Table of Contents",
   "title_sidebar": "Contents",
   "toc_cell": false,
   "toc_position": {},
   "toc_section_display": true,
   "toc_window_display": false
  },
  "varInspector": {
   "cols": {
    "lenName": 16,
    "lenType": 16,
    "lenVar": 40
   },
   "kernels_config": {
    "python": {
     "delete_cmd_postfix": "",
     "delete_cmd_prefix": "del ",
     "library": "var_list.py",
     "varRefreshCmd": "print(var_dic_list())"
    },
    "r": {
     "delete_cmd_postfix": ") ",
     "delete_cmd_prefix": "rm(",
     "library": "var_list.r",
     "varRefreshCmd": "cat(var_dic_list()) "
    }
   },
   "types_to_exclude": [
    "module",
    "function",
    "builtin_function_or_method",
    "instance",
    "_Feature"
   ],
   "window_display": false
  }
 },
 "nbformat": 4,
 "nbformat_minor": 5
}
