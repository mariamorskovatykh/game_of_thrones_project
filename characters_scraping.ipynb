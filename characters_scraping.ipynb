{
 "cells": [
  {
   "cell_type": "code",
   "execution_count": 339,
   "id": "0ff39e6c-80c3-4a7b-a128-96d3f2aa47db",
   "metadata": {},
   "outputs": [],
   "source": [
    "import pandas as pd\n",
    "import seaborn as sns\n",
    "import matplotlib.pyplot as plt\n",
    "import re\n",
    "import time\n",
    "from selenium import webdriver\n",
    "from selenium.webdriver.firefox.service import Service as FirefoxService\n",
    "from webdriver_manager.firefox import GeckoDriverManager\n",
    "from selenium.webdriver.common.by import By\n",
    "import warnings"
   ]
  },
  {
   "cell_type": "markdown",
   "id": "05e304b7-6978-4147-9ac6-f11b396b93df",
   "metadata": {},
   "source": [
    "## Create Driver"
   ]
  },
  {
   "cell_type": "code",
   "execution_count": null,
   "id": "325dd84a-2c09-440c-bd81-e7c874b0c6a8",
   "metadata": {},
   "outputs": [],
   "source": [
    "driver = webdriver.Firefox(service=FirefoxService(GeckoDriverManager().install()))"
   ]
  },
  {
   "cell_type": "markdown",
   "id": "46028cf2-0a68-448d-8a20-65900b863b7e",
   "metadata": {},
   "source": [
    "## Scrape characters"
   ]
  },
  {
   "cell_type": "code",
   "execution_count": null,
   "id": "23fee0e2-b11f-4946-940c-5983bc2ba39a",
   "metadata": {},
   "outputs": [],
   "source": [
    "sourse_url = \"https://iceandfire.fandom.com/wiki/Category:Characters\"\n",
    "\n",
    "letters_list = [\"A\", \"B\", \"C\", \"D\", \"E\", \"F\", \"G\", \"H\", \"I\", \"J\", \"K\", \"L\", \"M\", \"N\",\n",
    "                \"O\", \"P\", \"Q\", \"R\", \"S\", \"T\", \"U\", \"V\", \"W\", \"X\", \"Y\", \"Z\"]\n",
    "\n",
    "characters = []\n",
    "\n",
    "for letter in letters_list:\n",
    "    \n",
    "    # go through each letter\n",
    "    page_url = sourse_url + \"?from=\" + letter\n",
    "    driver.get(page_url)\n",
    "    character_elems = driver.find_elements(by=By.CLASS_NAME, value = 'category-page__member-link')\n",
    "    \n",
    "    # collect all character names and urls\n",
    "    for character in character_elems:\n",
    "        character_url = character.get_attribute('href')\n",
    "        character_name = character.text\n",
    "        characters.append({'character_name': character_name, \"url\": character_url})\n",
    "    "
   ]
  },
  {
   "cell_type": "markdown",
   "id": "c5d6b2ca",
   "metadata": {},
   "source": [
    "## Scrape characters' info"
   ]
  },
  {
   "cell_type": "code",
   "execution_count": null,
   "id": "3a71f4d8-6f38-41cf-ad26-4be0d6aacd1d",
   "metadata": {},
   "outputs": [],
   "source": [
    "# collect info for all characters\n",
    "\n",
    "character_list = []\n",
    "books_list = [\"A Game of Thrones\", \"A Clash of Kings\", \"A Storm of Swords\", \"A Feast for Crows\", \n",
    "              \"A Dance with Dragons\", \"The Winds of Winter\"]\n",
    "\n",
    "for character in characters:\n",
    "        \n",
    "    # go to character page\n",
    "    driver.get(character['url'])\n",
    "    \n",
    "    # extract alias info\n",
    "    alias = driver.find_elements(By.XPATH,'//div[@class=\"pi-item pi-data pi-item-spacing pi-border-color\" and @data-source=\"alias\"]')\n",
    "    try:\n",
    "        alias = alias[0].text[6:].replace('\\n', ', ')\n",
    "    except:\n",
    "        alias = \"\"\n",
    "    \n",
    "    # extract allegiance info\n",
    "    allegiance = driver.find_elements(By.XPATH,'//div[@class=\"pi-item pi-data pi-item-spacing pi-border-color\" and @data-source=\"allegiance\"]')\n",
    "    try:\n",
    "        allegiance = allegiance[0].text[11:].replace('\\n', ', ')\n",
    "    except:\n",
    "        allegiance = \"\"\n",
    "    \n",
    "    # extract culture info\n",
    "    culture = driver.find_elements(By.XPATH, '//div[@class=\"pi-item pi-data pi-item-spacing pi-border-color\" and @data-source=\"culture\"]')\n",
    "    try:\n",
    "        culture = culture[0].text[8:].replace('\\n', ', ')\n",
    "    except:\n",
    "        culture = \"\"\n",
    "    \n",
    "    # extract books info\n",
    "    books = driver.find_elements(By.XPATH, '//div[@class=\"pi-item pi-data pi-item-spacing pi-border-color\" and @data-source=\"books\"]')\n",
    "    try:\n",
    "        books = books[0].text[6:].replace('\\n', ', ')\n",
    "    except:\n",
    "        books = \"\"\n",
    "    \n",
    "    if books == \"\":\n",
    "        titles = driver.find_elements(By.TAG_NAME, \"h3\")\n",
    "        book_list = []\n",
    "        for title in titles:\n",
    "            for book in books_list:\n",
    "                if book in title.text:\n",
    "                    book_list.append(book)\n",
    "        if bool(len(book_list)):\n",
    "            books = ', '.join(book_list)\n",
    "        else:\n",
    "            books = \"\"\n",
    "        \n",
    "    # add info to character list\n",
    "    character_list.append({'character_name':character['character_name'], 'alias': alias, \"allegiance\": allegiance, \"culture\": culture, \"books\": books})\n",
    "    "
   ]
  },
  {
   "cell_type": "markdown",
   "id": "7b96e983",
   "metadata": {},
   "source": [
    "## Turn list into a data frame"
   ]
  },
  {
   "cell_type": "code",
   "execution_count": null,
   "id": "30647f7a",
   "metadata": {},
   "outputs": [],
   "source": [
    "characters_df = pd.DataFrame(character_list)"
   ]
  },
  {
   "cell_type": "code",
   "execution_count": 285,
   "id": "4f3086b3",
   "metadata": {},
   "outputs": [
    {
     "data": {
      "text/html": [
       "<div>\n",
       "<style scoped>\n",
       "    .dataframe tbody tr th:only-of-type {\n",
       "        vertical-align: middle;\n",
       "    }\n",
       "\n",
       "    .dataframe tbody tr th {\n",
       "        vertical-align: top;\n",
       "    }\n",
       "\n",
       "    .dataframe thead th {\n",
       "        text-align: right;\n",
       "    }\n",
       "</style>\n",
       "<table border=\"1\" class=\"dataframe\">\n",
       "  <thead>\n",
       "    <tr style=\"text-align: right;\">\n",
       "      <th></th>\n",
       "      <th>Unnamed: 0.1</th>\n",
       "      <th>character_name</th>\n",
       "      <th>alias</th>\n",
       "      <th>allegiance</th>\n",
       "      <th>culture</th>\n",
       "      <th>books</th>\n",
       "    </tr>\n",
       "  </thead>\n",
       "  <tbody>\n",
       "    <tr>\n",
       "      <th>0</th>\n",
       "      <td>0</td>\n",
       "      <td>Addam Marbrand</td>\n",
       "      <td>Unknown</td>\n",
       "      <td>House Marbrand, House Lannister, City Watch</td>\n",
       "      <td>Andals</td>\n",
       "      <td>A Feast for Crows</td>\n",
       "    </tr>\n",
       "    <tr>\n",
       "      <th>1</th>\n",
       "      <td>2</td>\n",
       "      <td>Adrack Humble</td>\n",
       "      <td>Unknown</td>\n",
       "      <td>House Humble, House Greyjoy</td>\n",
       "      <td>Ironborn</td>\n",
       "      <td>A Dance with Dragons</td>\n",
       "    </tr>\n",
       "    <tr>\n",
       "      <th>2</th>\n",
       "      <td>5</td>\n",
       "      <td>Aegon Frey</td>\n",
       "      <td>Unknown</td>\n",
       "      <td>House Frey, House Tully</td>\n",
       "      <td>Riverlands</td>\n",
       "      <td>A Game of Thrones, A Clash of Kings, A Storm o...</td>\n",
       "    </tr>\n",
       "    <tr>\n",
       "      <th>3</th>\n",
       "      <td>7</td>\n",
       "      <td>Aegon I Targaryen</td>\n",
       "      <td>Aegon the Conqueror, Aegon the Dragonlord, Aeg...</td>\n",
       "      <td>House Targaryen</td>\n",
       "      <td>Valyrian</td>\n",
       "      <td>A Game of Thrones, A Clash of Kings, A Storm o...</td>\n",
       "    </tr>\n",
       "    <tr>\n",
       "      <th>6</th>\n",
       "      <td>20</td>\n",
       "      <td>Aemon (wildling)</td>\n",
       "      <td>Unknown</td>\n",
       "      <td>Unknown</td>\n",
       "      <td>Unknown</td>\n",
       "      <td>A Feast for Crows</td>\n",
       "    </tr>\n",
       "  </tbody>\n",
       "</table>\n",
       "</div>"
      ],
      "text/plain": [
       "   Unnamed: 0.1     character_name  \\\n",
       "0             0     Addam Marbrand   \n",
       "1             2      Adrack Humble   \n",
       "2             5         Aegon Frey   \n",
       "3             7  Aegon I Targaryen   \n",
       "6            20   Aemon (wildling)   \n",
       "\n",
       "                                               alias  \\\n",
       "0                                            Unknown   \n",
       "1                                            Unknown   \n",
       "2                                            Unknown   \n",
       "3  Aegon the Conqueror, Aegon the Dragonlord, Aeg...   \n",
       "6                                            Unknown   \n",
       "\n",
       "                                    allegiance     culture  \\\n",
       "0  House Marbrand, House Lannister, City Watch      Andals   \n",
       "1                  House Humble, House Greyjoy    Ironborn   \n",
       "2                      House Frey, House Tully  Riverlands   \n",
       "3                              House Targaryen    Valyrian   \n",
       "6                                      Unknown     Unknown   \n",
       "\n",
       "                                               books  \n",
       "0                                  A Feast for Crows  \n",
       "1                               A Dance with Dragons  \n",
       "2  A Game of Thrones, A Clash of Kings, A Storm o...  \n",
       "3  A Game of Thrones, A Clash of Kings, A Storm o...  \n",
       "6                                  A Feast for Crows  "
      ]
     },
     "execution_count": 285,
     "metadata": {},
     "output_type": "execute_result"
    }
   ],
   "source": [
    "characters_df.head()"
   ]
  },
  {
   "cell_type": "code",
   "execution_count": 250,
   "id": "6f3263eb",
   "metadata": {},
   "outputs": [],
   "source": [
    "# save the data frame\n",
    "characters_df.to_csv('characters.csv')"
   ]
  },
  {
   "cell_type": "markdown",
   "id": "95775365",
   "metadata": {},
   "source": [
    "## Clean the data frame"
   ]
  },
  {
   "cell_type": "code",
   "execution_count": 590,
   "id": "ffed5fba",
   "metadata": {},
   "outputs": [],
   "source": [
    "# import saved data frame\n",
    "characters_df = pd.read_csv('characters.csv')"
   ]
  },
  {
   "cell_type": "code",
   "execution_count": 591,
   "id": "af7b2152",
   "metadata": {},
   "outputs": [],
   "source": [
    "# general cleaning\n",
    "\n",
    "# remove unused column\n",
    "characters_df = characters_df.drop('Unnamed: 0.1', axis=1)\n",
    "\n",
    "# remove characters that don't appear in any books\n",
    "characters_df = characters_df[characters_df['books'].notnull()]\n",
    "\n",
    "# delete rows with empty strings\n",
    "characters_df = characters_df[characters_df['books'] != \"\"]\n"
   ]
  },
  {
   "cell_type": "code",
   "execution_count": 592,
   "id": "aea54eb4",
   "metadata": {},
   "outputs": [],
   "source": [
    "# clean the books column\n",
    "\n",
    "with warnings.catch_warnings():\n",
    "    warnings.filterwarnings(\"ignore\")\n",
    "    \n",
    "    # delete all explanatory notes in brackets\n",
    "    characters_df[\"books\"] = characters_df[\"books\"].apply(lambda x: re.sub(r'\\s*\\([^)]*\\)', '', x))\n",
    "\n",
    "    # delete books that are not in Song of Ice and Fire series\n",
    "    books_to_delete = [\"The World of Ice & Fire\", \"Fire & Blood\", \"The Princess and the Queen\", \"The Hedge Knight\", \"The Sworn Sword\", \n",
    "                       \"The Mystery Knight\", \"The Rogue Prince\", \"The Sons of the Dragon\", \"The World of Ice and Fire\", \n",
    "                       \"A World of Ice & Fire\", \"Ice and Fire\", \"Fire and Blood\", \"The Rouge Prince\"]\n",
    "\n",
    "    pattern = '|'.join(books_to_delete)\n",
    "    characters_df[\"books\"] = characters_df[\"books\"].str.replace(pattern, '')\n",
    "\n",
    "    # delete commas in the beginning of a string\n",
    "    characters_df[\"books\"] = characters_df[\"books\"].str.replace(\"^[,\\s]*\", \"\")\n",
    "\n",
    "    # delete excessive commas inside a string\n",
    "    characters_df[\"books\"] = characters_df[\"books\"].str.replace(\" , \", \"\")\n",
    "    characters_df[\"books\"] = characters_df[\"books\"].str.replace(\", \", \",\")\n",
    "\n",
    "\n",
    "    # insert missing commas\n",
    "    characters_df[\"books\"] = characters_df[\"books\"].str.replace(\"A Clash of Kings, A Storm of SwordsA Feast for Crows\", \"A Clash of Kings, A Storm of Swords, A Feast for Crows\")\n",
    "    characters_df[\"books\"] = characters_df[\"books\"].str.replace(\"A Clash of Kings, A Storm of SwordsA Feast for CrowsA Dance with Dragons\", \"A Clash of Kings, A Storm of Swords, A Feast for Crows, A Dance with Dragons\")\n",
    "    characters_df[\"books\"] = characters_df[\"books\"].str.replace(\"A Clash of Kings, A Storm of Swords, A Feast for CrowsA Dance with Dragons\", \"A Clash of Kings, A Storm of Swords, A Feast for Crows, A Dance with Dragons\")\n",
    "    \n",
    "    # correct typos\n",
    "    characters_df[\"books\"] = characters_df[\"books\"].str.replace(\"A Storm of Swords\", \"A Storm of Sword\")\n"
   ]
  },
  {
   "cell_type": "code",
   "execution_count": 593,
   "id": "128b8b36",
   "metadata": {},
   "outputs": [],
   "source": [
    "# clean the aliases column\n",
    "\n",
    "with warnings.catch_warnings():\n",
    "    warnings.filterwarnings(\"ignore\")\n",
    "    \n",
    "    # replace nan with Unknown\n",
    "    characters_df = characters_df.fillna(\"Unknown\")\n",
    "    \n",
    "    # delete references\n",
    "    characters_df[\"alias\"] = characters_df[\"alias\"].str.replace(r'\\[\\d+\\]', '')\n",
    "    \n",
    "    # delete spaces after comma\n",
    "    characters_df[\"alias\"] = characters_df[\"alias\"].str.replace(\", \", \",\")"
   ]
  },
  {
   "cell_type": "code",
   "execution_count": 594,
   "id": "98469dc1",
   "metadata": {},
   "outputs": [],
   "source": [
    "# clean the allegiance column\n",
    "\n",
    "with warnings.catch_warnings():\n",
    "    warnings.filterwarnings(\"ignore\")\n",
    "    \n",
    "    # delete all explanatory notes in brackets\n",
    "    characters_df[\"allegiance\"] = characters_df[\"allegiance\"].apply(lambda x: x if pd.isna(x) or not isinstance(x, str) else re.sub(r'\\s*\\([^)]*\\)', '', x))\n",
    "    \n",
    "    # delete spaces after comma\n",
    "    characters_df[\"allegiance\"] = characters_df[\"allegiance\"].str.replace(\", \", \",\")\n",
    "    \n",
    "    # delete double commas\n",
    "    characters_df[\"allegiance\"] = characters_df[\"allegiance\"].str.replace(\",,\", \",\")\n",
    "    "
   ]
  },
  {
   "cell_type": "code",
   "execution_count": 595,
   "id": "eeabf9c0",
   "metadata": {},
   "outputs": [],
   "source": [
    "# clean the culture column\n",
    "\n",
    "with warnings.catch_warnings():\n",
    "    warnings.filterwarnings(\"ignore\")\n",
    "    \n",
    "    # delete westeros repetitions\n",
    "    characters_df[\"culture\"] = characters_df[\"culture\"].str.replace('Westeros, ', '')\n",
    "    \n",
    "    # delete additional info\n",
    "    characters_df[\"culture\"] = characters_df[\"culture\"].str.replace(', With influence from the Andals', '')\n",
    "    characters_df[\"culture\"] = characters_df[\"culture\"].str.replace(', With influence from the Andals and the Northmen', '')\n",
    "    characters_df[\"culture\"] = characters_df[\"culture\"].str.replace(', With influence from the Andals and the Free Cities', '')\n",
    "    characters_df[\"culture\"] = characters_df[\"culture\"].str.replace(', With influence from the Free Cities and the Andals', '')\n",
    "\n",
    "    # correct different instances of one name\n",
    "    characters_df[\"culture\"] = characters_df[\"culture\"].str.replace('/', ', ')\n",
    "    characters_df[\"culture\"] = characters_df[\"culture\"].str.replace('Northman', 'Northmen')\n",
    "    characters_df[\"culture\"] = characters_df[\"culture\"].str.replace('Dornishman', 'Dornish')\n",
    "    characters_df[\"culture\"] = characters_df[\"culture\"].str.replace('Dornishmen', 'Dornish')\n",
    "    characters_df[\"culture\"] = characters_df[\"culture\"].str.replace('Free folk', 'Free Folk')\n",
    "    characters_df[\"culture\"] = characters_df[\"culture\"].str.replace('Reachman', 'Reach')\n",
    "    characters_df[\"culture\"] = characters_df[\"culture\"].str.replace('Reachmen', 'Reach')\n",
    "    characters_df[\"culture\"] = characters_df[\"culture\"].str.replace('Riverlander', 'Riverlands')\n",
    "    characters_df[\"culture\"] = characters_df[\"culture\"].str.replace('Riverman', 'Riverlands')\n",
    "    characters_df[\"culture\"] = characters_df[\"culture\"].str.replace('Rivermen', 'Riverlands')\n",
    "    characters_df[\"culture\"] = characters_df[\"culture\"].str.replace('The Westerlands', 'Westerlands')\n",
    "    characters_df[\"culture\"] = characters_df[\"culture\"].str.replace('Westerlander', 'Westerlands')\n",
    "    characters_df[\"culture\"] = characters_df[\"culture\"].str.replace('Westerman', 'Westerlands')\n",
    "    characters_df[\"culture\"] = characters_df[\"culture\"].str.replace('Westermen', 'Westerlands')\n",
    "    characters_df[\"culture\"] = characters_df[\"culture\"].str.replace('Westeros', 'Westerlands')\n",
    "    characters_df[\"culture\"] = characters_df[\"culture\"].str.replace('Westman', 'Westerlands')\n",
    "    characters_df[\"culture\"] = characters_df[\"culture\"].str.replace('Valyrians', 'Valyrian')\n",
    "    characters_df[\"culture\"] = characters_df[\"culture\"].str.replace('Valemen', 'Vale of Arryn')\n",
    "    characters_df[\"culture\"] = characters_df[\"culture\"].str.replace('Wildlings', 'Wildling')\n",
    "    characters_df[\"culture\"] = characters_df[\"culture\"].str.replace(' and the ', ',')\n"
   ]
  },
  {
   "cell_type": "markdown",
   "id": "781725bc",
   "metadata": {},
   "source": [
    "## Preliminary Analysis"
   ]
  },
  {
   "cell_type": "markdown",
   "id": "ccceccb7",
   "metadata": {},
   "source": [
    "### Characters by books"
   ]
  },
  {
   "cell_type": "code",
   "execution_count": 596,
   "id": "ea8e43e5",
   "metadata": {},
   "outputs": [],
   "source": [
    "# Divide the values in column by comma\n",
    "characters_df['books'] = characters_df['books'].str.split(',')"
   ]
  },
  {
   "cell_type": "code",
   "execution_count": 597,
   "id": "6a68af07",
   "metadata": {},
   "outputs": [],
   "source": [
    "# Create a new DataFrame to store the separated values\n",
    "books_df = pd.DataFrame(columns=['book', 'character_name'])\n",
    "\n",
    "with warnings.catch_warnings():\n",
    "    warnings.filterwarnings(\"ignore\")\n",
    "    \n",
    "    # Iterate over the rows of the original DataFrame\n",
    "    for _, row in characters_df.iterrows():\n",
    "        # Iterate over the list of separated values\n",
    "        for value in row['books']:\n",
    "            # Append a new row to the new DataFrame\n",
    "            books_df = books_df.append({'book': value.strip(), 'character_name': row['character_name']}, ignore_index=True)"
   ]
  },
  {
   "cell_type": "code",
   "execution_count": 598,
   "id": "ad6c9ae1",
   "metadata": {},
   "outputs": [
    {
     "data": {
      "text/html": [
       "<div>\n",
       "<style scoped>\n",
       "    .dataframe tbody tr th:only-of-type {\n",
       "        vertical-align: middle;\n",
       "    }\n",
       "\n",
       "    .dataframe tbody tr th {\n",
       "        vertical-align: top;\n",
       "    }\n",
       "\n",
       "    .dataframe thead th {\n",
       "        text-align: right;\n",
       "    }\n",
       "</style>\n",
       "<table border=\"1\" class=\"dataframe\">\n",
       "  <thead>\n",
       "    <tr style=\"text-align: right;\">\n",
       "      <th></th>\n",
       "      <th>book</th>\n",
       "      <th>character_counts</th>\n",
       "    </tr>\n",
       "  </thead>\n",
       "  <tbody>\n",
       "    <tr>\n",
       "      <th>0</th>\n",
       "      <td>A Feast for Crows</td>\n",
       "      <td>351</td>\n",
       "    </tr>\n",
       "    <tr>\n",
       "      <th>1</th>\n",
       "      <td>A Storm of Sword</td>\n",
       "      <td>261</td>\n",
       "    </tr>\n",
       "    <tr>\n",
       "      <th>2</th>\n",
       "      <td>A Game of Thrones</td>\n",
       "      <td>249</td>\n",
       "    </tr>\n",
       "    <tr>\n",
       "      <th>3</th>\n",
       "      <td>A Clash of Kings</td>\n",
       "      <td>239</td>\n",
       "    </tr>\n",
       "    <tr>\n",
       "      <th>4</th>\n",
       "      <td>A Dance with Dragons</td>\n",
       "      <td>219</td>\n",
       "    </tr>\n",
       "    <tr>\n",
       "      <th>5</th>\n",
       "      <td>The Winds of Winter</td>\n",
       "      <td>39</td>\n",
       "    </tr>\n",
       "  </tbody>\n",
       "</table>\n",
       "</div>"
      ],
      "text/plain": [
       "                   book  character_counts\n",
       "0     A Feast for Crows               351\n",
       "1      A Storm of Sword               261\n",
       "2     A Game of Thrones               249\n",
       "3      A Clash of Kings               239\n",
       "4  A Dance with Dragons               219\n",
       "5   The Winds of Winter                39"
      ]
     },
     "execution_count": 598,
     "metadata": {},
     "output_type": "execute_result"
    }
   ],
   "source": [
    "# Group by books and count\n",
    "df_grouped_books = books_df.groupby(\"book\")[\"character_name\"].count().sort_values(ascending=False).reset_index(name='character_counts')\n",
    "df_grouped_books"
   ]
  },
  {
   "cell_type": "code",
   "execution_count": 599,
   "id": "0d652d22",
   "metadata": {},
   "outputs": [
    {
     "data": {
      "image/png": "[encoded data removed]",
      "text/plain": [
       "<Figure size 640x480 with 1 Axes>"
      ]
     },
     "metadata": {},
     "output_type": "display_data"
    }
   ],
   "source": [
    "# Plot number of characters grouped by books\n",
    "colors=plt.get_cmap('tab20b').colors\n",
    "ax = df_grouped_books.plot(x='book', y='character_counts', kind='bar', color=colors, width=0.4)\n",
    "ax.set_ylabel('Count of Characters')\n",
    "ax.set_xlabel('Books')\n",
    "ax.set_title('Number of Characters by Book')\n",
    "ax.legend().set_visible(False)\n",
    "ax.set_xticklabels(ax.get_xticklabels(), rotation=30)\n",
    "plt.show();"
   ]
  },
  {
   "cell_type": "markdown",
   "id": "2d2b7be8",
   "metadata": {},
   "source": [
    "###  Characters by cultures"
   ]
  },
  {
   "cell_type": "code",
   "execution_count": 600,
   "id": "ed0d18c5",
   "metadata": {},
   "outputs": [],
   "source": [
    "# Divide the values in column by comma\n",
    "characters_df['culture'] = characters_df['culture'].str.split(',')"
   ]
  },
  {
   "cell_type": "code",
   "execution_count": 601,
   "id": "518dcc64",
   "metadata": {},
   "outputs": [],
   "source": [
    "# Create a new DataFrame to store the separated values\n",
    "culture_df = pd.DataFrame(columns=['culture', 'character_name'])\n",
    "\n",
    "with warnings.catch_warnings():\n",
    "    warnings.filterwarnings(\"ignore\")\n",
    "    \n",
    "    # Iterate over the rows of the original DataFrame\n",
    "    for _, row in characters_df.iterrows():\n",
    "        # Iterate over the list of separated values\n",
    "        for value in row['culture']:\n",
    "            # Append a new row to the new DataFrame\n",
    "            culture_df = culture_df.append({'culture': value.strip(), 'character_name': row['character_name']}, ignore_index=True)"
   ]
  },
  {
   "cell_type": "code",
   "execution_count": 602,
   "id": "9209f5f0",
   "metadata": {},
   "outputs": [
    {
     "data": {
      "text/html": [
       "<div>\n",
       "<style scoped>\n",
       "    .dataframe tbody tr th:only-of-type {\n",
       "        vertical-align: middle;\n",
       "    }\n",
       "\n",
       "    .dataframe tbody tr th {\n",
       "        vertical-align: top;\n",
       "    }\n",
       "\n",
       "    .dataframe thead th {\n",
       "        text-align: right;\n",
       "    }\n",
       "</style>\n",
       "<table border=\"1\" class=\"dataframe\">\n",
       "  <thead>\n",
       "    <tr style=\"text-align: right;\">\n",
       "      <th></th>\n",
       "      <th>culture</th>\n",
       "      <th>character_counts</th>\n",
       "    </tr>\n",
       "  </thead>\n",
       "  <tbody>\n",
       "    <tr>\n",
       "      <th>1</th>\n",
       "      <td>Ironborn</td>\n",
       "      <td>73</td>\n",
       "    </tr>\n",
       "    <tr>\n",
       "      <th>2</th>\n",
       "      <td>Northmen</td>\n",
       "      <td>65</td>\n",
       "    </tr>\n",
       "    <tr>\n",
       "      <th>3</th>\n",
       "      <td>Andals</td>\n",
       "      <td>55</td>\n",
       "    </tr>\n",
       "    <tr>\n",
       "      <th>4</th>\n",
       "      <td>Riverlands</td>\n",
       "      <td>54</td>\n",
       "    </tr>\n",
       "    <tr>\n",
       "      <th>5</th>\n",
       "      <td>Westerlands</td>\n",
       "      <td>14</td>\n",
       "    </tr>\n",
       "  </tbody>\n",
       "</table>\n",
       "</div>"
      ],
      "text/plain": [
       "       culture  character_counts\n",
       "1     Ironborn                73\n",
       "2     Northmen                65\n",
       "3       Andals                55\n",
       "4   Riverlands                54\n",
       "5  Westerlands                14"
      ]
     },
     "execution_count": 602,
     "metadata": {},
     "output_type": "execute_result"
    }
   ],
   "source": [
    "# Group by cultures and count\n",
    "df_grouped_cul = culture_df.groupby(\"culture\")[\"character_name\"].count().sort_values(ascending=False).reset_index(name='character_counts')\n",
    "df_grouped_cul = df_grouped_cul[df_grouped_cul[\"culture\"] != \"Unknown\"]\n",
    "df_grouped_cul.head()"
   ]
  },
  {
   "cell_type": "code",
   "execution_count": 603,
   "id": "d267be3b",
   "metadata": {},
   "outputs": [
    {
     "data": {
      "image/png": "[encoded data removed]",
      "text/plain": [
       "<Figure size 1200x500 with 1 Axes>"
      ]
     },
     "metadata": {},
     "output_type": "display_data"
    }
   ],
   "source": [
    "# Plot number of characters grouped by cultures\n",
    "colors=plt.get_cmap('tab20b').colors\n",
    "fig = plt.figure(figsize=(12, 5))\n",
    "ax = df_grouped_cul.plot(x='culture', y='character_counts', kind='bar', color=colors, width=0.4, ax=fig.gca())\n",
    "ax.set_ylabel('Count of Characters')\n",
    "ax.set_xlabel('Culture')\n",
    "ax.set_title('Number of Characters by Culture')\n",
    "ax.legend().set_visible(False)\n",
    "ax.set_xticklabels(ax.get_xticklabels(), rotation=90)\n",
    "plt.show();"
   ]
  },
  {
   "attachments": {},
   "cell_type": "markdown",
   "id": "3fb1ab4e",
   "metadata": {},
   "source": [
    "## Save cleaned data frame"
   ]
  },
  {
   "cell_type": "code",
   "execution_count": 609,
   "id": "13cbd240",
   "metadata": {},
   "outputs": [],
   "source": [
    "# save the data frame\n",
    "characters_df.to_csv('characters_cleaned.csv')"
   ]
  }
 ],
 "metadata": {
  "kernelspec": {
   "display_name": "Python 3 (ipykernel)",
   "language": "python",
   "name": "python3"
  },
  "language_info": {
   "codemirror_mode": {
    "name": "ipython",
    "version": 3
   },
   "file_extension": ".py",
   "mimetype": "text/x-python",
   "name": "python",
   "nbconvert_exporter": "python",
   "pygments_lexer": "ipython3",
   "version": "3.10.6"
  },
  "toc": {
   "base_numbering": 1,
   "nav_menu": {},
   "number_sections": true,
   "sideBar": true,
   "skip_h1_title": false,
   "title_cell": "Table of Contents",
   "title_sidebar": "Contents",
   "toc_cell": false,
   "toc_position": {},
   "toc_section_display": true,
   "toc_window_display": false
  },
  "varInspector": {
   "cols": {
    "lenName": 16,
    "lenType": 16,
    "lenVar": 40
   },
   "kernels_config": {
    "python": {
     "delete_cmd_postfix": "",
     "delete_cmd_prefix": "del ",
     "library": "var_list.py",
     "varRefreshCmd": "print(var_dic_list())"
    },
    "r": {
     "delete_cmd_postfix": ") ",
     "delete_cmd_prefix": "rm(",
     "library": "var_list.r",
     "varRefreshCmd": "cat(var_dic_list()) "
    }
   },
   "types_to_exclude": [
    "module",
    "function",
    "builtin_function_or_method",
    "instance",
    "_Feature"
   ],
   "window_display": false
  }
 },
 "nbformat": 4,
 "nbformat_minor": 5
}
